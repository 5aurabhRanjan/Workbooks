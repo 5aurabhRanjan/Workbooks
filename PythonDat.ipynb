{
 "cells": [
  {
   "cell_type": "markdown",
   "metadata": {},
   "source": [
    "## Step 1\n",
    "\n",
    "- Create a tuple, called 'tup', with items 'a', 'b', 'c', 'd', 'e'\n",
    "- Create a list, called 'lst', with items 1, 2, 3, 4, 5\n",
    "- Create a dictionary, calle 'dd', with keys from tup, and items from lst"
   ]
  },
  {
   "cell_type": "code",
   "execution_count": 15,
   "metadata": {
    "collapsed": false
   },
   "outputs": [],
   "source": [
    "tup = ('a', 'b', 'c', 'd', 'e')\n",
    "lst = [1, 2, 3, 4, 5]\n",
    "\n",
    "dd = dict()\n",
    "for k, v in zip(tup, lst):\n",
    "    dd[k] = v"
   ]
  },
  {
   "cell_type": "code",
   "execution_count": 19,
   "metadata": {
    "collapsed": false
   },
   "outputs": [
    {
     "name": "stdout",
     "output_type": "stream",
     "text": [
      "a 1\n",
      "b 2\n",
      "c 3\n",
      "d 4\n",
      "e 5\n"
     ]
    }
   ],
   "source": [
    "for k, v in zip(tup, lst):\n",
    "    print(k, v)"
   ]
  },
  {
   "cell_type": "code",
   "execution_count": 21,
   "metadata": {
    "collapsed": false
   },
   "outputs": [],
   "source": [
    "ee = {}\n",
    "for ia, k in enumerate(tup):\n",
    "    for ib, v in enumerate(lst):\n",
    "        if ia == ib:\n",
    "            ee[k] = v"
   ]
  },
  {
   "cell_type": "code",
   "execution_count": 22,
   "metadata": {
    "collapsed": false
   },
   "outputs": [
    {
     "data": {
      "text/plain": [
       "{'a': 1, 'b': 2, 'c': 3, 'd': 4, 'e': 5}"
      ]
     },
     "execution_count": 22,
     "metadata": {},
     "output_type": "execute_result"
    }
   ],
   "source": [
    "ee"
   ]
  },
  {
   "cell_type": "markdown",
   "metadata": {},
   "source": [
    "#### Tuples vs. Lists\n",
    "http://stackoverflow.com/questions/626759/whats-the-difference-between-lists-and-tuples"
   ]
  },
  {
   "cell_type": "markdown",
   "metadata": {},
   "source": [
    "## Step 2\n",
    "\n",
    "- Create a new dictionary, with 100 elements, called 'dat':\n",
    "    - Index should be 0 - 99\n",
    "    - Values should be randomly selected from the letters 'a', 'b', 'c', 'd', 'e'\n",
    "- Convert this dictionary to a pandas series, call it 'ser'"
   ]
  },
  {
   "cell_type": "code",
   "execution_count": 3,
   "metadata": {
    "collapsed": true
   },
   "outputs": [],
   "source": [
    "import pandas as pd\n",
    "from numpy.random import randint"
   ]
  },
  {
   "cell_type": "code",
   "execution_count": 23,
   "metadata": {
    "collapsed": true
   },
   "outputs": [],
   "source": [
    "opts = ['a', 'b', 'c', 'd', 'e']\n",
    "dat = dict()"
   ]
  },
  {
   "cell_type": "code",
   "execution_count": 24,
   "metadata": {
    "collapsed": true
   },
   "outputs": [],
   "source": [
    "for i in range(100):\n",
    "    dat[i] = opts[randint(len(opts))]"
   ]
  },
  {
   "cell_type": "code",
   "execution_count": 27,
   "metadata": {
    "collapsed": false
   },
   "outputs": [],
   "source": [
    "ser = pd.Series(dat)"
   ]
  },
  {
   "cell_type": "code",
   "execution_count": 29,
   "metadata": {
    "collapsed": false
   },
   "outputs": [],
   "source": [
    "#ser"
   ]
  },
  {
   "cell_type": "markdown",
   "metadata": {},
   "source": [
    "## Step 3\n",
    "- So, consider 'dd' is the points value for each letter, and 'ser' is some data of some letters we observed\n",
    "    - With our data 'ser', we want to know how many points we observed, per letter, and the total points (across letters)\n",
    "- Create a new dictionary, called 'count_points', with keys 'a', 'b', 'c', 'd', 'e'\n",
    "    - Start values should be zero for each key\n",
    "- Loop through 'ser', for each letter, adding the points value (from dd) to the corresponding entry in 'count_points'\n",
    "- Print out the points per letter\n",
    "- Sum across all letters, and print out the total number of points"
   ]
  },
  {
   "cell_type": "code",
   "execution_count": null,
   "metadata": {
    "collapsed": true
   },
   "outputs": [],
   "source": []
  }
 ],
 "metadata": {
  "kernelspec": {
   "display_name": "Python 3",
   "language": "python",
   "name": "python3"
  },
  "language_info": {
   "codemirror_mode": {
    "name": "ipython",
    "version": 3
   },
   "file_extension": ".py",
   "mimetype": "text/x-python",
   "name": "python",
   "nbconvert_exporter": "python",
   "pygments_lexer": "ipython3",
   "version": "3.6.0"
  }
 },
 "nbformat": 4,
 "nbformat_minor": 2
}
