{
 "cells": [
  {
   "cell_type": "markdown",
   "metadata": {},
   "source": [
    "## Step 1\n",
    "\n",
    "- Create a tuple, called 'tup', with items 'a', 'b', 'c', 'd', 'e'\n",
    "- Create a list, called 'lst', with items 1, 2, 3, 4, 5\n",
    "- Create a dictionary, calle 'dd', with keys from tup, and items from lst"
   ]
  },
  {
   "cell_type": "code",
   "execution_count": 1,
   "metadata": {
    "collapsed": false
   },
   "outputs": [],
   "source": [
    "# Initialize variables\n",
    "lst = [1, 2, 3, 4, 5]\n",
    "tup = ('a', 'b', 'c', 'd', 'e')\n",
    "dd = {}\n",
    "for k, v in zip(tup, lst):\n",
    "    dd[k] = v"
   ]
  },
  {
   "cell_type": "code",
   "execution_count": 2,
   "metadata": {
    "collapsed": false
   },
   "outputs": [
    {
     "data": {
      "text/plain": [
       "{'a': 1, 'b': 2, 'c': 3, 'd': 4, 'e': 5}"
      ]
     },
     "execution_count": 2,
     "metadata": {},
     "output_type": "execute_result"
    }
   ],
   "source": [
    "# Check out the dictionary\n",
    "dd"
   ]
  },
  {
   "cell_type": "code",
   "execution_count": 3,
   "metadata": {
    "collapsed": true
   },
   "outputs": [],
   "source": [
    "# Alternatively - without using zip\n",
    "dd = {}\n",
    "for ia, k in enumerate(tup):\n",
    "    for ib, v in enumerate(lst):\n",
    "        if ia == ib:\n",
    "            dd[k] = v"
   ]
  },
  {
   "cell_type": "markdown",
   "metadata": {},
   "source": [
    "#### Tuples vs. Lists\n",
    "http://stackoverflow.com/questions/626759/whats-the-difference-between-lists-and-tuples"
   ]
  },
  {
   "cell_type": "markdown",
   "metadata": {},
   "source": [
    "## Step 2\n",
    "\n",
    "- Create a new dictionary, with 100 elements, called 'dat':\n",
    "    - Index should be 0 - 99\n",
    "    - Values should be randomly selected from the letters 'a', 'b', 'c', 'd', 'e'\n",
    "- Convert this dictionary to a pandas series, call it 'ser'"
   ]
  },
  {
   "cell_type": "code",
   "execution_count": 4,
   "metadata": {
    "collapsed": true
   },
   "outputs": [],
   "source": [
    "# Imports\n",
    "import pandas as pd\n",
    "from numpy.random import randint"
   ]
  },
  {
   "cell_type": "code",
   "execution_count": 5,
   "metadata": {
    "collapsed": false
   },
   "outputs": [],
   "source": [
    "# Initialize variables\n",
    "opts = ['a', 'b', 'c', 'd', 'e']\n",
    "dat = dict()"
   ]
  },
  {
   "cell_type": "code",
   "execution_count": 6,
   "metadata": {
    "collapsed": false
   },
   "outputs": [],
   "source": [
    "# Full dictionary with synthetic data\n",
    "for i in range(100):\n",
    "    dat[i] = opts[randint(len(opts))]\n",
    "\n",
    "# Convert to Series\n",
    "ser = pd.Series(dat)"
   ]
  },
  {
   "cell_type": "markdown",
   "metadata": {},
   "source": [
    "## Step 3\n",
    "- So, consider 'dd' is the points value for each letter, and 'ser' is some data of some letters we observed\n",
    "    - With our data 'ser', we want to know how many points we observed, per letter, and the total points (across letters)\n",
    "- Create a new dictionary, called 'count_points', with keys 'a', 'b', 'c', 'd', 'e'\n",
    "    - Start values should be zero for each key\n",
    "- Loop through 'ser', for each letter, adding the points value (from dd) to the corresponding entry in 'count_points'\n",
    "- Print out the points per letter\n",
    "- Sum across all letters, and print out the total number of points"
   ]
  },
  {
   "cell_type": "code",
   "execution_count": 7,
   "metadata": {
    "collapsed": false
   },
   "outputs": [],
   "source": [
    "# Initialize variables\n",
    "keys = ['a', 'b', 'c', 'd', 'e']\n",
    "vals = [0]*len(keys)\n",
    "count_points = dict()"
   ]
  },
  {
   "cell_type": "code",
   "execution_count": 8,
   "metadata": {
    "collapsed": true
   },
   "outputs": [],
   "source": [
    "# Fill count_points dictionary with keys, and zero values\n",
    "for k, v in zip(keys, vals):\n",
    "    count_points[k] = v"
   ]
  },
  {
   "cell_type": "code",
   "execution_count": 9,
   "metadata": {
    "collapsed": false
   },
   "outputs": [],
   "source": [
    "# Count points from data in ser\n",
    "for d in ser.index:\n",
    "    count_points[ser[d]] += dd[ser[d]] "
   ]
  },
  {
   "cell_type": "code",
   "execution_count": 10,
   "metadata": {
    "collapsed": false
   },
   "outputs": [
    {
     "data": {
      "text/plain": [
       "{'a': 24, 'b': 56, 'c': 48, 'd': 76, 'e': 65}"
      ]
     },
     "execution_count": 10,
     "metadata": {},
     "output_type": "execute_result"
    }
   ],
   "source": [
    "# Check out points per letter\n",
    "count_points"
   ]
  },
  {
   "cell_type": "code",
   "execution_count": 11,
   "metadata": {
    "collapsed": false
   },
   "outputs": [
    {
     "data": {
      "text/plain": [
       "269"
      ]
     },
     "execution_count": 11,
     "metadata": {},
     "output_type": "execute_result"
    }
   ],
   "source": [
    "# Check out total points - across all letters\n",
    "sum(count_points.values())"
   ]
  }
 ],
 "metadata": {
  "kernelspec": {
   "display_name": "Python 3",
   "language": "python",
   "name": "python3"
  },
  "language_info": {
   "codemirror_mode": {
    "name": "ipython",
    "version": 3
   },
   "file_extension": ".py",
   "mimetype": "text/x-python",
   "name": "python",
   "nbconvert_exporter": "python",
   "pygments_lexer": "ipython3",
   "version": "3.6.0"
  }
 },
 "nbformat": 4,
 "nbformat_minor": 2
}
